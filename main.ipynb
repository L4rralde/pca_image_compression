{
 "cells": [
  {
   "cell_type": "code",
   "execution_count": null,
   "id": "25dba284-ff9c-4f7d-a72d-f62db3bb02ab",
   "metadata": {},
   "outputs": [],
   "source": [
    "import os\n",
    "\n",
    "if not os.path.exists(\"cpp/output\"):\n",
    "    os.makedirs(\"cpp/output\")"
   ]
  },
  {
   "cell_type": "markdown",
   "id": "43f06c96-c778-4eb3-9152-4dac41761943",
   "metadata": {},
   "source": [
    "Compilación"
   ]
  },
  {
   "cell_type": "code",
   "execution_count": 1,
   "id": "59d17d9f-4668-4f9d-bac5-2ba20efece16",
   "metadata": {},
   "outputs": [
    {
     "name": "stdout",
     "output_type": "stream",
     "text": [
      "clang: \u001b[0;1;35mwarning: \u001b[0m\u001b[1mtreating 'c' input as 'c++' when in C++ mode, this behavior is deprecated [-Wdeprecated]\u001b[0m\n"
     ]
    }
   ],
   "source": [
    "!g++ cpp/include/*/*.c* cpp/src/main.cpp -o cpp/output/main.o -Wall -Wextra -lm"
   ]
  },
  {
   "cell_type": "markdown",
   "id": "1f6963a4-c9be-4d41-9006-fe724523472e",
   "metadata": {},
   "source": [
    "Uso"
   ]
  },
  {
   "cell_type": "code",
   "execution_count": 2,
   "id": "7bb3b792-7042-4c03-be7b-7438dd810545",
   "metadata": {},
   "outputs": [
    {
     "name": "stdout",
     "output_type": "stream",
     "text": [
      "main.o <src_img_path> <dst_img_path> [<k>]\n"
     ]
    }
   ],
   "source": [
    "!cpp/output/main.o"
   ]
  },
  {
   "cell_type": "code",
   "execution_count": null,
   "id": "d48b2fd9-cc80-472f-8994-d3a7cb4b1a0f",
   "metadata": {},
   "outputs": [],
   "source": [
    "import glob\n",
    "import matplotlib.pyplot as plt\n",
    "from matplotlib.image import imread \n",
    "\n",
    "for img_file in glob.glob(\"images/*.pgm\"):\n",
    "    !cpp/output/main.o {img_file} result.pgm 128\n",
    "    image_raw = imread(\"test.pgm\")\n",
    "    plt.imshow(image_raw, cmap=plt.cm.gray)\n",
    "    plt.show()\n",
    "    image_raw = imread(\"result.pgm\")\n",
    "    plt.imshow(image_raw, cmap=plt.cm.gray)\n",
    "    plt.show()"
   ]
  },
  {
   "cell_type": "code",
   "execution_count": null,
   "id": "97a6ec27-82cd-478b-b362-87b10526f240",
   "metadata": {},
   "outputs": [],
   "source": []
  }
 ],
 "metadata": {
  "kernelspec": {
   "display_name": "Python 3 (ipykernel)",
   "language": "python",
   "name": "python3"
  },
  "language_info": {
   "codemirror_mode": {
    "name": "ipython",
    "version": 3
   },
   "file_extension": ".py",
   "mimetype": "text/x-python",
   "name": "python",
   "nbconvert_exporter": "python",
   "pygments_lexer": "ipython3",
   "version": "3.12.7"
  }
 },
 "nbformat": 4,
 "nbformat_minor": 5
}
